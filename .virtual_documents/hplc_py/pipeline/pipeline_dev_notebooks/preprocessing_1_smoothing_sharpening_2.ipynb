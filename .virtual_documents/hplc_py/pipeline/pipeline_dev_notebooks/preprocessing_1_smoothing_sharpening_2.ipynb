








from dataclasses import dataclass
from findiff import FinDiff
from hplc_py.definitions import precision
from hplc_py.pipeline.preprocess_dashboard import DataSets, PreProcesser
from pandera.typing.polars import DataFrame, LazyFrame
from sklearn.base import BaseEstimator, TransformerMixin
from sklearn.compose import ColumnTransformer

import holoviews as hv
import hvplot
import numpy as np
import pandera as pa
import panel as pn
import polars as pl

get_ipython().run_line_magic("reload_ext", " autoreload")
get_ipython().run_line_magic("autoreload", " 2")

pl.Config.set_fmt_float(fmt="full")
pl.Config.set_tbl_rows(10)

hv.renderer("bokeh").theme = "dark_minimal"

dsets = DataSets()
ringland = dsets.ringland.fetch().with_columns(
    pl.col("time").round(9), pl.col("signal").round(9)
)
ringland.head()








data = ringland.select(
    pl.col("time").round(precision), pl.col("signal").round(precision)
)
data





dx = data.select(pl.col("time").diff().mean()).item()
dx


d1 = FinDiff(0, dx, 1)

data = data.pipe(
    lambda df: df
    .with_columns(
        pl.Series(name='d1', values=d1(
            df.select("signal").to_series().to_numpy()
        )).round(precision)
    )
)  # fmt: skip
display(data)


d1_viz = (
    data.with_columns(pl.col("d1").mul(0.1))
    .plot(x="time", y=["signal", "d1"], alpha=[1, 0.6], line_dash=["solid", "dotdash"])
    .opts(
        height=750, width=1000, title="signal and first finite difference", xlim=(0, 5)
    )
)
display(d1_viz)





from sklearn.utils.validation import check_array, check_is_fitted


class FiniteDiffAdder(BaseEstimator, TransformerMixin):
    """
    Use to add or subtract finite differences from X. combine multiple steps,
    as stages in the pipeline, for example subtract the second derivative, add the 4th.
    """

    def __init__(self, order: int = 1, dx: float = 1, k: float = 1, sign: str = "-"):
        """
        order: the order of the finite difference, 1st, 2nd, 3rd, etc.
        sign: ["+", "-"], whether to add or subtract the finite difference from X
        k: second derivative weighting term
        """
        self.order = order
        self.dx = dx
        self.sign = sign
        self.k = k

        self.findiff_operator = FinDiff(0, dx, order)

    def fit(self, X, y=None):
        if self.sign not in ["+", "-"]:
            raise ValueError("please input '+' or '-'")

        self.n_features_ = X.shape[1]

        self.is_fitted_ = True

        self.feature_names_in_ = X.columns

        return self

    def transform(self, X, y=None):
        """
        logic here
        """

        check_is_fitted(self, "n_features_")

        if X.shape[1] != self.n_features_:
            raise ValueError(
                "shape of input is different from what was seen" "in `fit`"
            )

        self.X = X
        self.feature_names_in_ = X.columns

        self.diff_ = self.findiff_operator(X)

        if self.sign == "+":
            self.X_t = np.add(self.X, np.multiply(self.k, self.diff_))
        elif self.sign == "-":
            self.X_t = np.subtract(self.X, np.multiply(self.k, self.diff_))

        return self.X_t

    def get_feature_names_out(self):
        """
        dummy method to enable instantiation of `set_output` API, see: <https://stackoverflow.com/a/75036830/21058408>
        """
        return self.feature_names_in_





# define input data

input_data = data.select("signal")


# test transformer

input_data.pipe(
    FiniteDiffAdder().set_output(transform="polars").fit_transform
).with_columns(pl.col("signal").round(precision))


# define pipeline

from sklearn.pipeline import Pipeline

pipeline_steps = [
    ("first_diff_sym", FiniteDiffAdder()),
]

pipe = Pipeline(steps=pipeline_steps, verbose=True)
pipe


# define column transformer

ct_transformers = [
    ("sr_pipe", pipe, ["signal"]),
]

ct = ColumnTransformer(
    transformers=ct_transformers,
    remainder="passthrough",
    verbose_feature_names_out=True,
).set_output(transform="polars")

ct


input_data_ct = data.select("time", "signal")
input_data_ct


input_data_ct.pipe(ct.fit_transform)





from scipy import signal

signal.savgol_filter


from sklearn.utils.validation import check_array, check_is_fitted


class SavgolFilter(BaseEstimator, TransformerMixin):
    """
    Use to smooth a signal
    """

    def __init__(
        self,
        window_length: int,
        polyorder: int,
        deriv: int = 0,
        delta: float = 1.0,
        mode: str = "interp",
    ):
        """
        order: the order of the finite difference, 1st, 2nd, 3rd, etc.
        sign: ["+", "-"], whether to add or subtract the finite difference from X
        k: second derivative weighting term
        """
        self.window_length = window_length
        self.polyorder = polyorder
        self.deriv = deriv
        self.delta = delta
        self.mode = mode

    def fit(self, X, y=None):
        self.n_features_ = X.shape[1]

        self.is_fitted_ = True

        self.feature_names_in_ = X.columns

        return self

    def transform(self, X, y=None):
        """
        logic here
        """

        check_is_fitted(self, "n_features_")

        if X.shape[1] != self.n_features_:
            raise ValueError(
                "shape of input is different from what was seen" "in `fit`"
            )

        self.X = X
        self.feature_names_in_ = X.columns

        input_x = self.X.to_series(0).to_numpy().ravel()

        self.X_t = signal.savgol_filter(
            x=input_x,
            window_length=self.window_length,
            polyorder=self.polyorder,
            deriv=self.deriv,
            delta=self.delta,
            mode=self.mode,
        )

        return self.X_t

    def get_feature_names_out(self):
        """
        dummy method to enable instantiation of `set_output` API, see: <https://stackoverflow.com/a/75036830/21058408>
        """
        return self.feature_names_in_


# test the savgol filter
savgol_tformer = SavgolFilter(window_length=500, polyorder=1)
savgol_tformer.set_output(transform="polars")
smoothed_signal = input_data.pipe(savgol_tformer.fit_transform)
smoothed_signal


smoothed_signal.plot(y="signal", grid=True)











class PowerLaw(BaseEstimator, TransformerMixin):
    """
    Use to smooth a signal
    """

    def __init__(
        self,
        order: int = 2,
    ):
        """
        order: the order of the finite difference, 1st, 2nd, 3rd, etc.
        sign: ["+", "-"], whether to add or subtract the finite difference from X
        k: second derivative weighting term
        """
        self.order = order

    def fit(self, X, y=None):
        self.n_features_ = X.shape[1]

        self.is_fitted_ = True

        self.feature_names_in_ = X.columns

        return self

    def transform(self, X, y=None):
        """
        logic here
        """

        check_is_fitted(self, "n_features_")

        if X.shape[1] != self.n_features_:
            raise ValueError(
                "shape of input is different from what was seen" "in `fit`"
            )

        self.X = X
        self.feature_names_in_ = X.columns

        input_x = self.X.to_series(0).to_numpy().ravel()

        self.X_t = np.power(self.X, self.order)

        return self.X_t

    def get_feature_names_out(self):
        """
        dummy method to enable instantiation of `set_output` API, see: <https://stackoverflow.com/a/75036830/21058408>
        """
        return self.feature_names_in_





powlaw = PowerLaw(order=1.5)
powlaw.set_output(transform="polars")
powlaw_out = powlaw.fit_transform(X=input_data)
powlaw_out.with_row_index("idx").plot(x="idx", y="signal", grid=True).opts(
    height=750, width=1250
)











from hplc_py.pipeline.pipeline_dev_notebooks.transformers import (
    FiniteDiffAdder,
    PowerLaw,
    SavgolFilter,
    SNIPBCorr,
)

steps = [
    ("bcorr", SNIPBCorr(n_iter=39)),
    ("2nd_order_sub", FiniteDiffAdder(order=2, k=0.0006)),
]

pipe = Pipeline(steps=steps).set_output(transform="polars")
ringland = ringland.with_columns(
    input_data.select(pl.col("signal"))
    .pipe(pipe.fit_transform)
    .select(pl.col("signal").name.suffix("_proc"))
)
ringland








ringland.with_columns(pl.col("signal").log1p().name.suffix("_log")).plot(
    y=["signal", "signal_log"]
)











# %debug
# 1. map peaks
from hplc_py.map_signal import map_signal

signal_mapper = map_signal.SignalMapper(find_peaks_kwargs={"prominence": 0.00001})

X_windowed = ringland.select(
    pl.col("idx"), pl.col("signal_proc").round(5).alias("X")
).pipe(signal_mapper.fit_transform)
X_windowed


signal_mapper






