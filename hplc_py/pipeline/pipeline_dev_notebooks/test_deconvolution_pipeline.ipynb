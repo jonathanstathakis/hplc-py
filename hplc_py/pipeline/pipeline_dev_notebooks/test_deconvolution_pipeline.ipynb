{
 "cells": [
  {
   "cell_type": "code",
   "execution_count": 2,
   "metadata": {},
   "outputs": [
    {
     "data": {
      "text/plain": [
       "polars.config.Config"
      ]
     },
     "execution_count": 2,
     "metadata": {},
     "output_type": "execute_result"
    }
   ],
   "source": [
    "from dataclasses import dataclass\n",
    "from findiff import FinDiff\n",
    "from hplc_py.definitions import PRECISION\n",
    "from hplc_py.datasets import DataSets\n",
    "from hplc_py.baseline_correction import baseline_correction\n",
    "from sklearn.compose import ColumnTransformer\n",
    "from hplc_py.map_signal import map_signal\n",
    "\n",
    "import holoviews as hv\n",
    "import hvplot\n",
    "import numpy as np\n",
    "import pandera as pa\n",
    "import polars as pl\n",
    "\n",
    "dsets = DataSets()\n",
    "ringland = dsets.ringland.fetch().with_columns(\n",
    "    pl.col(\"time\").round(9), pl.col(\"signal\").round(9)\n",
    ")\n",
    "\n",
    "%reload_ext autoreload\n",
    "%autoreload 2\n",
    "\n",
    "from sklearn.pipeline import Pipeline\n",
    "import hplc_py.transformers as transformers\n",
    "\n",
    "pl.Config.set_tbl_rows(5)"
   ]
  },
  {
   "cell_type": "code",
   "execution_count": 3,
   "metadata": {},
   "outputs": [
    {
     "data": {
      "text/html": [
       "<div><style>\n",
       ".dataframe > thead > tr,\n",
       ".dataframe > tbody > tr {\n",
       "  text-align: right;\n",
       "  white-space: pre-wrap;\n",
       "}\n",
       "</style>\n",
       "<small>shape: (4_050, 2)</small><table border=\"1\" class=\"dataframe\"><thead><tr><th>time</th><th>signal</th></tr><tr><td>f64</td><td>f64</td></tr></thead><tbody><tr><td>0.005833</td><td>0.001952</td></tr><tr><td>0.0125</td><td>0.001825</td></tr><tr><td>0.019167</td><td>0.002004</td></tr><tr><td>&hellip;</td><td>&hellip;</td></tr><tr><td>26.9925</td><td>1.730151</td></tr><tr><td>26.999167</td><td>1.728989</td></tr></tbody></table></div>"
      ],
      "text/plain": [
       "shape: (4_050, 2)\n",
       "┌───────────┬──────────┐\n",
       "│ time      ┆ signal   │\n",
       "│ ---       ┆ ---      │\n",
       "│ f64       ┆ f64      │\n",
       "╞═══════════╪══════════╡\n",
       "│ 0.005833  ┆ 0.001952 │\n",
       "│ 0.0125    ┆ 0.001825 │\n",
       "│ 0.019167  ┆ 0.002004 │\n",
       "│ …         ┆ …        │\n",
       "│ 26.9925   ┆ 1.730151 │\n",
       "│ 26.999167 ┆ 1.728989 │\n",
       "└───────────┴──────────┘"
      ]
     },
     "execution_count": 3,
     "metadata": {},
     "output_type": "execute_result"
    }
   ],
   "source": [
    "input_data = ringland.select(pl.col(\"time\"), pl.col(\"signal\"))\n",
    "input_data"
   ]
  },
  {
   "cell_type": "markdown",
   "metadata": {},
   "source": [
    "# Test: Deconvolution Pipeline\n",
    "\n",
    "A notebook demonstrating the function of the deconvolution pipeline."
   ]
  },
  {
   "cell_type": "code",
   "execution_count": 4,
   "metadata": {},
   "outputs": [
    {
     "name": "stdout",
     "output_type": "stream",
     "text": [
      "[Pipeline] ........... (step 1 of 7) Processing rounder, total=   0.0s\n",
      "[Pipeline] .... (step 2 of 7) Processing first_diff_sym, total=   0.0s\n",
      "[Pipeline] ... (step 3 of 7) Processing second_diff_sub, total=   0.0s\n",
      "[Pipeline] ........... (step 4 of 7) Processing savgol1, total=   0.0s\n"
     ]
    },
    {
     "name": "stderr",
     "output_type": "stream",
     "text": [
      "Performing baseline correction: 100%|██████████| 39/39 [00:00<00:00, 276.47it/s]"
     ]
    },
    {
     "name": "stdout",
     "output_type": "stream",
     "text": [
      "[Pipeline] ............. (step 5 of 7) Processing bcorr, total=   0.2s\n",
      "[Pipeline] ........... (step 6 of 7) Processing savgol2, total=   0.0s\n",
      "[Pipeline] .......... (step 7 of 7) Processing rounder2, total=   0.0s\n"
     ]
    },
    {
     "name": "stderr",
     "output_type": "stream",
     "text": [
      "\n"
     ]
    },
    {
     "data": {
      "text/html": [
       "<div><style>\n",
       ".dataframe > thead > tr,\n",
       ".dataframe > tbody > tr {\n",
       "  text-align: right;\n",
       "  white-space: pre-wrap;\n",
       "}\n",
       "</style>\n",
       "<small>shape: (4_050, 2)</small><table border=\"1\" class=\"dataframe\"><thead><tr><th>signal</th><th>time</th></tr><tr><td>f64</td><td>f64</td></tr></thead><tbody><tr><td>0.000088</td><td>0.005833</td></tr><tr><td>-0.000171</td><td>0.0125</td></tr><tr><td>-0.000015</td><td>0.019167</td></tr><tr><td>&hellip;</td><td>&hellip;</td></tr><tr><td>0.00005</td><td>26.9925</td></tr><tr><td>0.000017</td><td>26.999167</td></tr></tbody></table></div>"
      ],
      "text/plain": [
       "shape: (4_050, 2)\n",
       "┌───────────┬───────────┐\n",
       "│ signal    ┆ time      │\n",
       "│ ---       ┆ ---       │\n",
       "│ f64       ┆ f64       │\n",
       "╞═══════════╪═══════════╡\n",
       "│ 0.000088  ┆ 0.005833  │\n",
       "│ -0.000171 ┆ 0.0125    │\n",
       "│ -0.000015 ┆ 0.019167  │\n",
       "│ …         ┆ …         │\n",
       "│ 0.00005   ┆ 26.9925   │\n",
       "│ 0.000017  ┆ 26.999167 │\n",
       "└───────────┴───────────┘"
      ]
     },
     "execution_count": 4,
     "metadata": {},
     "output_type": "execute_result"
    }
   ],
   "source": [
    "# Preprocess, signal map, data prep, deconvolution\n",
    "\n",
    "pipeline_steps = [\n",
    "    (\"rounder\", transformers.Rounder()),\n",
    "    (\"first_diff_sym\", transformers.FiniteDiffAdder(order=1, sign=\"+\", k=2.2)),\n",
    "    (\"second_diff_sub\", transformers.FiniteDiffAdder(order=2, sign=\"-\", k=0.1)),\n",
    "    (\n",
    "        \"savgol1\",\n",
    "        transformers.SavgolFilter(\n",
    "            window_length=5,\n",
    "            polyorder=2,\n",
    "        ),\n",
    "    ),\n",
    "    (\"bcorr\", baseline_correction.SNIPBCorr(n_iter=39)),\n",
    "    (\n",
    "        \"savgol2\",\n",
    "        transformers.SavgolFilter(\n",
    "            window_length=5,\n",
    "            polyorder=2,\n",
    "        ),\n",
    "    ),\n",
    "    (\"rounder2\", transformers.Rounder()),\n",
    "]\n",
    "\n",
    "pipe = Pipeline(steps=pipeline_steps, verbose=True)\n",
    "\n",
    "ct_transformers = [\n",
    "    (\"sr_pipe\", pipe, [\"signal\"]),\n",
    "]\n",
    "\n",
    "ct = ColumnTransformer(\n",
    "    transformers=ct_transformers,\n",
    "    remainder=\"passthrough\",\n",
    "    verbose_feature_names_out=False,\n",
    ").set_output(transform=\"polars\")\n",
    "\n",
    "data_ = input_data.pipe(ct.fit_transform)\n",
    "\n",
    "data_"
   ]
  },
  {
   "cell_type": "markdown",
   "metadata": {},
   "source": [
    "signal mapping needs a report. to include:\n",
    "\n",
    "- number of peaks detected\n",
    "- x, y, quantile of top 5 peaks\n",
    "- number of windows assigned\n",
    "- window with most peaks\n",
    "\n",
    "start with that.\n",
    "\n",
    "Do it as a class that accepts the SignalMap object as input.\n",
    "\n",
    "the report will be a printing of tables."
   ]
  },
  {
   "cell_type": "code",
   "execution_count": 5,
   "metadata": {},
   "outputs": [
    {
     "name": "stderr",
     "output_type": "stream",
     "text": [
      "/Users/jonathan/hplc-py/hplc_py/map_signal/map_windows/map_windows.py:899: UserWarning: interpeak window of length one detected:\n",
      "shape: (2, 4)\n",
      "┌──────┬───────┬────────────┬─────────────┐\n",
      "│ left ┆ right ┆ w_idx_left ┆ w_idx_right │\n",
      "│ ---  ┆ ---   ┆ ---        ┆ ---         │\n",
      "│ i64  ┆ i64   ┆ i64        ┆ i64         │\n",
      "╞══════╪═══════╪════════════╪═════════════╡\n",
      "│ 265  ┆ 266   ┆ 0          ┆ 1           │\n",
      "│ 560  ┆ 561   ┆ 1          ┆ 2           │\n",
      "└──────┴───────┴────────────┴─────────────┘\n",
      "left: the interpeak window start idx, right: interpeak window end idx, w_idx_left: the peak window idx on the left, w_idx_right: the peak window idx on the right.\n",
      "\n",
      "this is a development warning as I do not expect this scenario to occur if a sufficiently low level of precision is used. It is happening (i think) because the peak measuring algorithms are very sensitive to precision.\n",
      "\n",
      "Do with it what you will, but the result is neighbouring peak windows with no intermediate interpeak window\n",
      "\n",
      "  warnings.warn(warning_str)\n"
     ]
    },
    {
     "ename": "AttributeError",
     "evalue": "'WindowedPeakMap' object has no attribute 'X'",
     "output_type": "error",
     "traceback": [
      "\u001b[0;31m---------------------------------------------------------------------------\u001b[0m",
      "\u001b[0;31mAttributeError\u001b[0m                            Traceback (most recent call last)",
      "\u001b[1;32m/Users/jonathan/hplc-py/hplc_py/pipeline/pipeline_dev_notebooks/test_deconvolution_pipeline.ipynb Cell 6\u001b[0m line \u001b[0;36m1\n\u001b[1;32m      <a href='vscode-notebook-cell:/Users/jonathan/hplc-py/hplc_py/pipeline/pipeline_dev_notebooks/test_deconvolution_pipeline.ipynb#W5sZmlsZQ%3D%3D?line=2'>3</a>\u001b[0m signal_mapper \u001b[39m=\u001b[39m map_signal\u001b[39m.\u001b[39mSignalMapper(find_peaks_kwargs\u001b[39m=\u001b[39m\u001b[39mdict\u001b[39m(prominence\u001b[39m=\u001b[39m\u001b[39m0.001\u001b[39m))\n\u001b[1;32m      <a href='vscode-notebook-cell:/Users/jonathan/hplc-py/hplc_py/pipeline/pipeline_dev_notebooks/test_deconvolution_pipeline.ipynb#W5sZmlsZQ%3D%3D?line=3'>4</a>\u001b[0m signal_mapper\u001b[39m.\u001b[39mfit_transform(\n\u001b[1;32m      <a href='vscode-notebook-cell:/Users/jonathan/hplc-py/hplc_py/pipeline/pipeline_dev_notebooks/test_deconvolution_pipeline.ipynb#W5sZmlsZQ%3D%3D?line=4'>5</a>\u001b[0m     X\u001b[39m=\u001b[39mdata_\u001b[39m.\u001b[39mwith_row_index(\u001b[39m\"\u001b[39m\u001b[39midx\u001b[39m\u001b[39m\"\u001b[39m)\n\u001b[1;32m      <a href='vscode-notebook-cell:/Users/jonathan/hplc-py/hplc_py/pipeline/pipeline_dev_notebooks/test_deconvolution_pipeline.ipynb#W5sZmlsZQ%3D%3D?line=5'>6</a>\u001b[0m     \u001b[39m.\u001b[39mdrop(\u001b[39m\"\u001b[39m\u001b[39mtime\u001b[39m\u001b[39m\"\u001b[39m)\n\u001b[1;32m      <a href='vscode-notebook-cell:/Users/jonathan/hplc-py/hplc_py/pipeline/pipeline_dev_notebooks/test_deconvolution_pipeline.ipynb#W5sZmlsZQ%3D%3D?line=6'>7</a>\u001b[0m     \u001b[39m.\u001b[39mcast(\u001b[39mdict\u001b[39m(idx\u001b[39m=\u001b[39m\u001b[39mint\u001b[39m))\n\u001b[1;32m      <a href='vscode-notebook-cell:/Users/jonathan/hplc-py/hplc_py/pipeline/pipeline_dev_notebooks/test_deconvolution_pipeline.ipynb#W5sZmlsZQ%3D%3D?line=7'>8</a>\u001b[0m     \u001b[39m.\u001b[39mrename(\u001b[39mdict\u001b[39m(signal\u001b[39m=\u001b[39m\u001b[39m\"\u001b[39m\u001b[39mX\u001b[39m\u001b[39m\"\u001b[39m))\n\u001b[1;32m      <a href='vscode-notebook-cell:/Users/jonathan/hplc-py/hplc_py/pipeline/pipeline_dev_notebooks/test_deconvolution_pipeline.ipynb#W5sZmlsZQ%3D%3D?line=8'>9</a>\u001b[0m )\n\u001b[0;32m---> <a href='vscode-notebook-cell:/Users/jonathan/hplc-py/hplc_py/pipeline/pipeline_dev_notebooks/test_deconvolution_pipeline.ipynb#W5sZmlsZQ%3D%3D?line=9'>10</a>\u001b[0m signal_mapper\u001b[39m.\u001b[39;49msignal_mapping_\u001b[39m.\u001b[39;49mviz_mode()\u001b[39m.\u001b[39;49mdraw_signal()\u001b[39m.\u001b[39mplot()\n",
      "File \u001b[0;32m~/hplc-py/hplc_py/map_signal/viz_hv.py:21\u001b[0m, in \u001b[0;36mSignalMapViz.draw_signal\u001b[0;34m(self)\u001b[0m\n\u001b[1;32m     19\u001b[0m \u001b[39mdef\u001b[39;00m \u001b[39mdraw_signal\u001b[39m(\u001b[39mself\u001b[39m):\n\u001b[0;32m---> 21\u001b[0m     plot_obj \u001b[39m=\u001b[39m \u001b[39mself\u001b[39;49m\u001b[39m.\u001b[39;49mpeaks\u001b[39m.\u001b[39;49mdraw_signal()\u001b[39m.\u001b[39mplot()\n\u001b[1;32m     23\u001b[0m     \u001b[39mself\u001b[39m\u001b[39m.\u001b[39mplots[\u001b[39m\"\u001b[39m\u001b[39msignal\u001b[39m\u001b[39m\"\u001b[39m] \u001b[39m=\u001b[39m plot_obj\n\u001b[1;32m     25\u001b[0m     \u001b[39mreturn\u001b[39;00m \u001b[39mself\u001b[39m\n",
      "File \u001b[0;32m~/hplc-py/hplc_py/map_signal/map_peaks/viz_hv.py:20\u001b[0m, in \u001b[0;36mPeakMapViz.draw_signal\u001b[0;34m(self)\u001b[0m\n\u001b[1;32m     15\u001b[0m \u001b[39mdef\u001b[39;00m \u001b[39mdraw_signal\u001b[39m(\u001b[39mself\u001b[39m):\n\u001b[1;32m     16\u001b[0m \u001b[39m    \u001b[39m\u001b[39m\"\"\"\u001b[39;00m\n\u001b[1;32m     17\u001b[0m \u001b[39m    use hvplot namespace to produce a plot obj of the input X signal.\u001b[39;00m\n\u001b[1;32m     18\u001b[0m \u001b[39m    \"\"\"\u001b[39;00m\n\u001b[0;32m---> 20\u001b[0m     plot_obj \u001b[39m=\u001b[39m \u001b[39mself\u001b[39;49m\u001b[39m.\u001b[39;49mpeak_map\u001b[39m.\u001b[39;49mX\u001b[39m.\u001b[39mplot(\n\u001b[1;32m     21\u001b[0m         x\u001b[39m=\u001b[39m\u001b[39m\"\u001b[39m\u001b[39midx\u001b[39m\u001b[39m\"\u001b[39m,\n\u001b[1;32m     22\u001b[0m         y\u001b[39m=\u001b[39m\u001b[39m\"\u001b[39m\u001b[39mX\u001b[39m\u001b[39m\"\u001b[39m,\n\u001b[1;32m     23\u001b[0m         label\u001b[39m=\u001b[39m\u001b[39m\"\u001b[39m\u001b[39mX\u001b[39m\u001b[39m\"\u001b[39m,\n\u001b[1;32m     24\u001b[0m         title\u001b[39m=\u001b[39m\u001b[39m\"\u001b[39m\u001b[39mX\u001b[39m\u001b[39m\"\u001b[39m,\n\u001b[1;32m     25\u001b[0m     )\n\u001b[1;32m     27\u001b[0m     \u001b[39mself\u001b[39m\u001b[39m.\u001b[39mplots[\u001b[39m\"\u001b[39m\u001b[39msignal\u001b[39m\u001b[39m\"\u001b[39m] \u001b[39m=\u001b[39m plot_obj\n\u001b[1;32m     28\u001b[0m     \u001b[39mreturn\u001b[39;00m \u001b[39mself\u001b[39m\n",
      "\u001b[0;31mAttributeError\u001b[0m: 'WindowedPeakMap' object has no attribute 'X'"
     ]
    }
   ],
   "source": [
    "# signal mapping\n",
    "\n",
    "signal_mapper = map_signal.SignalMapper(find_peaks_kwargs=dict(prominence=0.001))\n",
    "signal_mapper.fit_transform(\n",
    "    X=data_.with_row_index(\"idx\")\n",
    "    .drop(\"time\")\n",
    "    .cast(dict(idx=int))\n",
    "    .rename(dict(signal=\"X\"))\n",
    ")\n",
    "signal_mapper.signal_mapping_.viz_mode().draw_signal().plot()"
   ]
  },
  {
   "cell_type": "code",
   "execution_count": null,
   "metadata": {},
   "outputs": [
    {
     "data": {
      "text/html": [
       "<div><style>\n",
       ".dataframe > thead > tr,\n",
       ".dataframe > tbody > tr {\n",
       "  text-align: right;\n",
       "  white-space: pre-wrap;\n",
       "}\n",
       "</style>\n",
       "<small>shape: (4_050, 3)</small><table border=\"1\" class=\"dataframe\"><thead><tr><th>w_type</th><th>w_idx</th><th>idx</th></tr><tr><td>str</td><td>i64</td><td>i64</td></tr></thead><tbody><tr><td>&quot;interpeak&quot;</td><td>0</td><td>0</td></tr><tr><td>&quot;interpeak&quot;</td><td>0</td><td>1</td></tr><tr><td>&quot;interpeak&quot;</td><td>0</td><td>2</td></tr><tr><td>&hellip;</td><td>&hellip;</td><td>&hellip;</td></tr><tr><td>&quot;interpeak&quot;</td><td>2</td><td>4048</td></tr><tr><td>&quot;interpeak&quot;</td><td>2</td><td>4049</td></tr></tbody></table></div>"
      ],
      "text/plain": [
       "shape: (4_050, 3)\n",
       "┌───────────┬───────┬──────┐\n",
       "│ w_type    ┆ w_idx ┆ idx  │\n",
       "│ ---       ┆ ---   ┆ ---  │\n",
       "│ str       ┆ i64   ┆ i64  │\n",
       "╞═══════════╪═══════╪══════╡\n",
       "│ interpeak ┆ 0     ┆ 0    │\n",
       "│ interpeak ┆ 0     ┆ 1    │\n",
       "│ interpeak ┆ 0     ┆ 2    │\n",
       "│ …         ┆ …     ┆ …    │\n",
       "│ interpeak ┆ 2     ┆ 4048 │\n",
       "│ interpeak ┆ 2     ┆ 4049 │\n",
       "└───────────┴───────┴──────┘"
      ]
     },
     "execution_count": 59,
     "metadata": {},
     "output_type": "execute_result"
    }
   ],
   "source": [
    "time_window_mapping = signal_mapper.signal_mapping_.window_map.time_window_mapping\n",
    "time_window_mapping"
   ]
  },
  {
   "cell_type": "code",
   "execution_count": null,
   "metadata": {},
   "outputs": [
    {
     "data": {
      "text/plain": [
       "contains the following tables:\n",
       "\tmaxima:\n",
       "\t\tcolumns: ['p_idx', 'loc', 'dim', 'value']\n",
       "\t\tshape: (134, 4)\n",
       "\tcontour_line_bounds\n",
       "\t\tcolumns: ['p_idx', 'loc', 'msnt', 'dim', 'value']\n",
       "\t\tshape: (804, 5)\n",
       "\twidths:\n",
       "\t\tcolumns: ['p_idx', 'msnt', 'value']\n",
       "\t\tshape: (134, 3)"
      ]
     },
     "execution_count": 65,
     "metadata": {},
     "output_type": "execute_result"
    }
   ],
   "source": [
    "signal_mapper.signal_mapping_.peak_map"
   ]
  },
  {
   "cell_type": "code",
   "execution_count": null,
   "metadata": {},
   "outputs": [
    {
     "data": {
      "text/html": [
       "<div><style>\n",
       ".dataframe > thead > tr,\n",
       ".dataframe > tbody > tr {\n",
       "  text-align: right;\n",
       "  white-space: pre-wrap;\n",
       "}\n",
       "</style>\n",
       "<small>shape: (134, 3)</small><table border=\"1\" class=\"dataframe\"><thead><tr><th>p_idx</th><th>msnt</th><th>value</th></tr><tr><td>i64</td><td>str</td><td>f64</td></tr></thead><tbody><tr><td>0</td><td>&quot;width_whh&quot;</td><td>7.052996</td></tr><tr><td>1</td><td>&quot;width_whh&quot;</td><td>7.059117</td></tr><tr><td>2</td><td>&quot;width_whh&quot;</td><td>9.249463</td></tr><tr><td>&hellip;</td><td>&hellip;</td><td>&hellip;</td></tr><tr><td>65</td><td>&quot;width_pb&quot;</td><td>111.878249</td></tr><tr><td>66</td><td>&quot;width_pb&quot;</td><td>187.862789</td></tr></tbody></table></div>"
      ],
      "text/plain": [
       "shape: (134, 3)\n",
       "┌───────┬───────────┬────────────┐\n",
       "│ p_idx ┆ msnt      ┆ value      │\n",
       "│ ---   ┆ ---       ┆ ---        │\n",
       "│ i64   ┆ str       ┆ f64        │\n",
       "╞═══════╪═══════════╪════════════╡\n",
       "│ 0     ┆ width_whh ┆ 7.052996   │\n",
       "│ 1     ┆ width_whh ┆ 7.059117   │\n",
       "│ 2     ┆ width_whh ┆ 9.249463   │\n",
       "│ …     ┆ …         ┆ …          │\n",
       "│ 65    ┆ width_pb  ┆ 111.878249 │\n",
       "│ 66    ┆ width_pb  ┆ 187.862789 │\n",
       "└───────┴───────────┴────────────┘"
      ]
     },
     "execution_count": 61,
     "metadata": {},
     "output_type": "execute_result"
    }
   ],
   "source": [
    "signal_mapper.signal_mapping_.peak_map.widths"
   ]
  },
  {
   "cell_type": "code",
   "execution_count": 33,
   "metadata": {},
   "outputs": [
    {
     "ename": "AttributeError",
     "evalue": "'WindowedPeakMap' object has no attribute 'tbl_repr_formatter'",
     "output_type": "error",
     "traceback": [
      "\u001b[0;31m---------------------------------------------------------------------------\u001b[0m",
      "\u001b[0;31mAttributeError\u001b[0m                            Traceback (most recent call last)",
      "File \u001b[0;32m~/hplc-py/my-hplc_py/lib/python3.11/site-packages/IPython/core/formatters.py:708\u001b[0m, in \u001b[0;36mPlainTextFormatter.__call__\u001b[0;34m(self, obj)\u001b[0m\n\u001b[1;32m    701\u001b[0m stream \u001b[39m=\u001b[39m StringIO()\n\u001b[1;32m    702\u001b[0m printer \u001b[39m=\u001b[39m pretty\u001b[39m.\u001b[39mRepresentationPrinter(stream, \u001b[39mself\u001b[39m\u001b[39m.\u001b[39mverbose,\n\u001b[1;32m    703\u001b[0m     \u001b[39mself\u001b[39m\u001b[39m.\u001b[39mmax_width, \u001b[39mself\u001b[39m\u001b[39m.\u001b[39mnewline,\n\u001b[1;32m    704\u001b[0m     max_seq_length\u001b[39m=\u001b[39m\u001b[39mself\u001b[39m\u001b[39m.\u001b[39mmax_seq_length,\n\u001b[1;32m    705\u001b[0m     singleton_pprinters\u001b[39m=\u001b[39m\u001b[39mself\u001b[39m\u001b[39m.\u001b[39msingleton_printers,\n\u001b[1;32m    706\u001b[0m     type_pprinters\u001b[39m=\u001b[39m\u001b[39mself\u001b[39m\u001b[39m.\u001b[39mtype_printers,\n\u001b[1;32m    707\u001b[0m     deferred_pprinters\u001b[39m=\u001b[39m\u001b[39mself\u001b[39m\u001b[39m.\u001b[39mdeferred_printers)\n\u001b[0;32m--> 708\u001b[0m printer\u001b[39m.\u001b[39;49mpretty(obj)\n\u001b[1;32m    709\u001b[0m printer\u001b[39m.\u001b[39mflush()\n\u001b[1;32m    710\u001b[0m \u001b[39mreturn\u001b[39;00m stream\u001b[39m.\u001b[39mgetvalue()\n",
      "File \u001b[0;32m~/hplc-py/my-hplc_py/lib/python3.11/site-packages/IPython/lib/pretty.py:410\u001b[0m, in \u001b[0;36mRepresentationPrinter.pretty\u001b[0;34m(self, obj)\u001b[0m\n\u001b[1;32m    407\u001b[0m                         \u001b[39mreturn\u001b[39;00m meth(obj, \u001b[39mself\u001b[39m, cycle)\n\u001b[1;32m    408\u001b[0m                 \u001b[39mif\u001b[39;00m \u001b[39mcls\u001b[39m \u001b[39mis\u001b[39;00m \u001b[39mnot\u001b[39;00m \u001b[39mobject\u001b[39m \\\n\u001b[1;32m    409\u001b[0m                         \u001b[39mand\u001b[39;00m \u001b[39mcallable\u001b[39m(\u001b[39mcls\u001b[39m\u001b[39m.\u001b[39m\u001b[39m__dict__\u001b[39m\u001b[39m.\u001b[39mget(\u001b[39m'\u001b[39m\u001b[39m__repr__\u001b[39m\u001b[39m'\u001b[39m)):\n\u001b[0;32m--> 410\u001b[0m                     \u001b[39mreturn\u001b[39;00m _repr_pprint(obj, \u001b[39mself\u001b[39;49m, cycle)\n\u001b[1;32m    412\u001b[0m     \u001b[39mreturn\u001b[39;00m _default_pprint(obj, \u001b[39mself\u001b[39m, cycle)\n\u001b[1;32m    413\u001b[0m \u001b[39mfinally\u001b[39;00m:\n",
      "File \u001b[0;32m~/hplc-py/my-hplc_py/lib/python3.11/site-packages/IPython/lib/pretty.py:778\u001b[0m, in \u001b[0;36m_repr_pprint\u001b[0;34m(obj, p, cycle)\u001b[0m\n\u001b[1;32m    776\u001b[0m \u001b[39m\u001b[39m\u001b[39m\"\"\"A pprint that just redirects to the normal repr function.\"\"\"\u001b[39;00m\n\u001b[1;32m    777\u001b[0m \u001b[39m# Find newlines and replace them with p.break_()\u001b[39;00m\n\u001b[0;32m--> 778\u001b[0m output \u001b[39m=\u001b[39m \u001b[39mrepr\u001b[39m(obj)\n\u001b[1;32m    779\u001b[0m lines \u001b[39m=\u001b[39m output\u001b[39m.\u001b[39msplitlines()\n\u001b[1;32m    780\u001b[0m \u001b[39mwith\u001b[39;00m p\u001b[39m.\u001b[39mgroup():\n",
      "File \u001b[0;32m~/hplc-py/hplc_py/map_signal/map_peaks/peak_map_output.py:84\u001b[0m, in \u001b[0;36mWindowedPeakMap.__repr__\u001b[0;34m(self)\u001b[0m\n\u001b[1;32m     81\u001b[0m tbl_names \u001b[39m=\u001b[39m [\u001b[39m'\u001b[39m\u001b[39mmaxima\u001b[39m\u001b[39m'\u001b[39m, \u001b[39m'\u001b[39m\u001b[39mcontour_line_bounds\u001b[39m\u001b[39m'\u001b[39m, \u001b[39m'\u001b[39m\u001b[39mwidths\u001b[39m\u001b[39m'\u001b[39m]\n\u001b[1;32m     82\u001b[0m attrs \u001b[39m=\u001b[39m [\u001b[39m'\u001b[39m\u001b[39mcolumns\u001b[39m\u001b[39m'\u001b[39m,\u001b[39m'\u001b[39m\u001b[39mshape\u001b[39m\u001b[39m'\u001b[39m]\n\u001b[0;32m---> 84\u001b[0m repr_str \u001b[39m=\u001b[39m \u001b[39mself\u001b[39;49m\u001b[39m.\u001b[39;49mtbl_repr_formatter(tbl_names\u001b[39m=\u001b[39mtbl_names, tbl_props\u001b[39m=\u001b[39mattrs)\n\u001b[1;32m     86\u001b[0m \u001b[39mreturn\u001b[39;00m repr_str\n",
      "\u001b[0;31mAttributeError\u001b[0m: 'WindowedPeakMap' object has no attribute 'tbl_repr_formatter'"
     ]
    }
   ],
   "source": [
    "signal_mapper.signal_mapping_.peak_map"
   ]
  },
  {
   "cell_type": "code",
   "execution_count": null,
   "metadata": {},
   "outputs": [],
   "source": [
    "class SignalMapReport:\n",
    "    def __init__(self, signal_map: map_signal.SignalMap):\n",
    "        self.signal_map = signal_map\n",
    "\n",
    "        # window mapping\n",
    "\n",
    "        self.window_map = self.signal_map.window_map\n",
    "        self.X_windowed = self.window_map.X_windowed\n",
    "        self.window_bounds = self.window_map.window_bounds\n",
    "\n",
    "        # peak mapping\n",
    "\n",
    "        self.peak_map = self.signal_map.peak_map"
   ]
  }
 ],
 "metadata": {
  "kernelspec": {
   "display_name": "my-hplc_py",
   "language": "python",
   "name": "python3"
  },
  "language_info": {
   "codemirror_mode": {
    "name": "ipython",
    "version": 3
   },
   "file_extension": ".py",
   "mimetype": "text/x-python",
   "name": "python",
   "nbconvert_exporter": "python",
   "pygments_lexer": "ipython3",
   "version": "3.11.1"
  }
 },
 "nbformat": 4,
 "nbformat_minor": 2
}
